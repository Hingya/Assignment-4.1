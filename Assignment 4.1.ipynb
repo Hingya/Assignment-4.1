{
 "cells": [
  {
   "cell_type": "markdown",
   "id": "f8bb5c96",
   "metadata": {},
   "source": [
    "Write a Python program to triple all numbers of a given list of integers. Use Python map."
   ]
  },
  {
   "cell_type": "code",
   "execution_count": 28,
   "id": "918e739a",
   "metadata": {},
   "outputs": [],
   "source": [
    "def triple_num(n):\n",
    "    n = n * 3\n",
    "    return n"
   ]
  },
  {
   "cell_type": "code",
   "execution_count": 29,
   "id": "7dec0be9",
   "metadata": {},
   "outputs": [],
   "source": [
    "l =  [1, 2, 3, 4, 5, 6, 7]"
   ]
  },
  {
   "cell_type": "code",
   "execution_count": 30,
   "id": "3339ceb4",
   "metadata": {},
   "outputs": [
    {
     "data": {
      "text/plain": [
       "<map at 0x963f54b340>"
      ]
     },
     "execution_count": 30,
     "metadata": {},
     "output_type": "execute_result"
    }
   ],
   "source": [
    "map(triple_num,l)"
   ]
  },
  {
   "cell_type": "code",
   "execution_count": 31,
   "id": "9e98fb23",
   "metadata": {},
   "outputs": [
    {
     "data": {
      "text/plain": [
       "[3, 6, 9, 12, 15, 18, 21]"
      ]
     },
     "execution_count": 31,
     "metadata": {},
     "output_type": "execute_result"
    }
   ],
   "source": [
    "list(map(triple_num,l))"
   ]
  },
  {
   "cell_type": "code",
   "execution_count": null,
   "id": "febf187b",
   "metadata": {},
   "outputs": [],
   "source": []
  }
 ],
 "metadata": {
  "kernelspec": {
   "display_name": "Python 3 (ipykernel)",
   "language": "python",
   "name": "python3"
  },
  "language_info": {
   "codemirror_mode": {
    "name": "ipython",
    "version": 3
   },
   "file_extension": ".py",
   "mimetype": "text/x-python",
   "name": "python",
   "nbconvert_exporter": "python",
   "pygments_lexer": "ipython3",
   "version": "3.9.7"
  }
 },
 "nbformat": 4,
 "nbformat_minor": 5
}
